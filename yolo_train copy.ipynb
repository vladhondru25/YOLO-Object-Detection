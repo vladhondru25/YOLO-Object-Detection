{
 "metadata": {
  "language_info": {
   "codemirror_mode": {
    "name": "ipython",
    "version": 3
   },
   "file_extension": ".py",
   "mimetype": "text/x-python",
   "name": "python",
   "nbconvert_exporter": "python",
   "pygments_lexer": "ipython3",
   "version": "3.7.9-final"
  },
  "orig_nbformat": 2,
  "kernelspec": {
   "name": "python3",
   "display_name": "Python 3",
   "language": "python"
  }
 },
 "nbformat": 4,
 "nbformat_minor": 2,
 "cells": [
  {
   "cell_type": "code",
   "execution_count": 1,
   "metadata": {},
   "outputs": [],
   "source": [
    "%load_ext autoreload\n",
    "%autoreload 2"
   ]
  },
  {
   "cell_type": "code",
   "execution_count": 2,
   "metadata": {},
   "outputs": [],
   "source": [
    "import numpy as np\n",
    "\n",
    "import torch\n",
    "import torch.nn as nn\n",
    "import torch.nn.functional as F\n",
    "import torch.optim as optim\n",
    "\n",
    "from models.yolov4 import CSPDarknet53_SPP_PAN\n",
    "from models.common import *\n",
    "from utility.loss_function import *\n",
    "from utility.utilities import *\n",
    "from utility.boxes import *\n",
    "from utility.dataset import *\n",
    "from utility.dataset_api import *\n",
    "from utility.display import *"
   ]
  },
  {
   "cell_type": "code",
   "execution_count": 3,
   "metadata": {},
   "outputs": [],
   "source": [
    "EPOCHS = 1"
   ]
  },
  {
   "cell_type": "code",
   "execution_count": 4,
   "metadata": {},
   "outputs": [],
   "source": [
    "seed = 1\n",
    "np.random.seed(seed)\n",
    "\n",
    "torch.manual_seed(seed)\n",
    "torch.set_deterministic(True)\n",
    "# if use_cuda:\n",
    "#     torch.cuda.manual_seed(seed)"
   ]
  },
  {
   "cell_type": "code",
   "execution_count": 5,
   "metadata": {},
   "outputs": [
    {
     "output_type": "stream",
     "name": "stdout",
     "text": [
      "Using GPU: False\n"
     ]
    }
   ],
   "source": [
    "use_cuda = torch.cuda.is_available()\n",
    "device = torch.device('cuda' if use_cuda else 'cpu')\n",
    "print(\"Using GPU: {}\".format(use_cuda))\n",
    "\n",
    "ds = CocoDatasetTrain()\n",
    "# ds = CocoDatasetAPITrain()\n",
    "# dl = load_dataloader(ds, batch_size=1)\n",
    "\n",
    "modelTest = CSPDarknet53_SPP_PAN()\n",
    "modelTest = modelTest.to(device=device)\n",
    "# modelTest.load_state_dict(torch.load('model.pt', map_location=device))\n",
    "\n",
    "optimiser = optim.Adam(modelTest.parameters())"
   ]
  },
  {
   "cell_type": "code",
   "execution_count": 15,
   "metadata": {
    "tags": []
   },
   "outputs": [
    {
     "output_type": "error",
     "ename": "NameError",
     "evalue": "name 'x2' is not defined",
     "traceback": [
      "\u001b[0;31m---------------------------------------------------------------------------\u001b[0m",
      "\u001b[0;31mNameError\u001b[0m                                 Traceback (most recent call last)",
      "\u001b[0;32m<ipython-input-15-73e282fb893c>\u001b[0m in \u001b[0;36m<module>\u001b[0;34m\u001b[0m\n\u001b[1;32m     35\u001b[0m         \u001b[0;31m#     target_x, target_y, target_w, target_h, target_obj, target_class_1hot = masks_and_target\u001b[0m\u001b[0;34m\u001b[0m\u001b[0;34m\u001b[0m\u001b[0;34m\u001b[0m\u001b[0m\n\u001b[1;32m     36\u001b[0m \u001b[0;34m\u001b[0m\u001b[0m\n\u001b[0;32m---> 37\u001b[0;31m         \u001b[0mloss\u001b[0m \u001b[0;34m=\u001b[0m \u001b[0mloss_function2\u001b[0m\u001b[0;34m(\u001b[0m\u001b[0mpred_boxes\u001b[0m\u001b[0;34m,\u001b[0m \u001b[0mpreds\u001b[0m\u001b[0;34m,\u001b[0m \u001b[0mmasks_and_target\u001b[0m\u001b[0;34m,\u001b[0m \u001b[0mdevice\u001b[0m\u001b[0;34m)\u001b[0m\u001b[0;34m\u001b[0m\u001b[0;34m\u001b[0m\u001b[0m\n\u001b[0m\u001b[1;32m     38\u001b[0m         \u001b[0;31m# loss = loss_function(preds, masks_and_target, device)\u001b[0m\u001b[0;34m\u001b[0m\u001b[0;34m\u001b[0m\u001b[0;34m\u001b[0m\u001b[0m\n\u001b[1;32m     39\u001b[0m         \u001b[0;31m# print(loss)\u001b[0m\u001b[0;34m\u001b[0m\u001b[0;34m\u001b[0m\u001b[0;34m\u001b[0m\u001b[0m\n",
      "\u001b[0;32m~/Desktop/AI-projects/YOLO-Object-Detection/utility/loss_function.py\u001b[0m in \u001b[0;36mloss_function2\u001b[0;34m(pred_boxes, preds, masks_and_target, device)\u001b[0m\n\u001b[1;32m     58\u001b[0m \u001b[0;34m\u001b[0m\u001b[0m\n\u001b[1;32m     59\u001b[0m     \u001b[0mx1\u001b[0m\u001b[0;34m,\u001b[0m \u001b[0my1\u001b[0m \u001b[0;34m=\u001b[0m \u001b[0mpred_boxes\u001b[0m\u001b[0;34m[\u001b[0m\u001b[0mobject_mask\u001b[0m\u001b[0;34m]\u001b[0m\u001b[0;34m[\u001b[0m\u001b[0;34m:\u001b[0m\u001b[0;34m,\u001b[0m\u001b[0;36m0\u001b[0m\u001b[0;34m:\u001b[0m\u001b[0;36m2\u001b[0m\u001b[0;34m]\u001b[0m\u001b[0;34m.\u001b[0m\u001b[0mt\u001b[0m\u001b[0;34m(\u001b[0m\u001b[0;34m)\u001b[0m\u001b[0;34m\u001b[0m\u001b[0;34m\u001b[0m\u001b[0m\n\u001b[0;32m---> 60\u001b[0;31m     \u001b[0md\u001b[0m \u001b[0;34m=\u001b[0m \u001b[0mtorch\u001b[0m\u001b[0;34m.\u001b[0m\u001b[0mpow\u001b[0m\u001b[0;34m(\u001b[0m\u001b[0mx2\u001b[0m\u001b[0;34m-\u001b[0m\u001b[0mx1\u001b[0m\u001b[0;34m,\u001b[0m \u001b[0;36m2\u001b[0m\u001b[0;34m)\u001b[0m \u001b[0;34m+\u001b[0m \u001b[0mtorch\u001b[0m\u001b[0;34m.\u001b[0m\u001b[0mpow\u001b[0m\u001b[0;34m(\u001b[0m\u001b[0my2\u001b[0m\u001b[0;34m-\u001b[0m\u001b[0my1\u001b[0m\u001b[0;34m,\u001b[0m \u001b[0;36m2\u001b[0m\u001b[0;34m)\u001b[0m\u001b[0;34m\u001b[0m\u001b[0;34m\u001b[0m\u001b[0m\n\u001b[0m\u001b[1;32m     61\u001b[0m \u001b[0;34m\u001b[0m\u001b[0m\n\u001b[1;32m     62\u001b[0m     \u001b[0;31m# Bounding box prediction loss\u001b[0m\u001b[0;34m\u001b[0m\u001b[0;34m\u001b[0m\u001b[0;34m\u001b[0m\u001b[0m\n",
      "\u001b[0;31mNameError\u001b[0m: name 'x2' is not defined"
     ]
    }
   ],
   "source": [
    "from scratch import Yolo_loss\n",
    "\n",
    "dl = DataLoader(ds, batch_size=3, num_workers=0, worker_init_fn=np.random.seed(seed), collate_fn=ds.collate_fn, \\\n",
    "                sampler=torch.utils.data.RandomSampler(data_source=ds, generator=torch.Generator().manual_seed(seed)))\n",
    "\n",
    "yolo_loss = Yolo_loss()\n",
    "# print(yolo_loss.ref_anchors[2][-3:])\n",
    "\n",
    "for epoch in range(EPOCHS):\n",
    "    for i, batch in enumerate(dl):\n",
    "        images, targets = batch\n",
    "        # images = images.to(device=device)\n",
    "        # targets = targets.to(device=device)\n",
    "\n",
    "        # print(\"Targets:\")\n",
    "        # print(targets)\n",
    "        \n",
    "        preds = modelTest(images)[-1]\n",
    "\n",
    "        # # predsGithub = torch.clone(preds)\n",
    "        \n",
    "        preds = split_output(preds, device)\n",
    "        \n",
    "        preds[0][:,:,:,:,0:2] = ACTIVATIONS['sigmoid'](preds[0][:,:,:,:,0:2])\n",
    "        preds[1] = ACTIVATIONS['sigmoid'](preds[1])\n",
    "        preds[2] = ACTIVATIONS['sigmoid'](preds[2])\n",
    "        \n",
    "        pred_boxes = prediction_to_boxes(preds[0], 's_scale', device)\n",
    "\n",
    "        # preds_github_boxes = yolo_loss(predsGithub).permute(0,2,3,1,4)\n",
    "        \n",
    "        masks_and_target = build_target(pred_boxes, preds[2], targets, 's_scale', device)\n",
    "\n",
    "        # object_mask, no_object_mask, class_mask, ious_pred_target, \\\n",
    "        #     target_x, target_y, target_w, target_h, target_obj, target_class_1hot = masks_and_target\n",
    "        \n",
    "        # loss = loss_function2(pred_boxes, preds, masks_and_target, device)\n",
    "        # loss = loss_function(preds, masks_and_target, device)\n",
    "        # print(loss)      \n",
    "\n",
    "        # show_boxes(images.squeeze(0), targets)\n",
    "        \n",
    "        # optimiser.zero_grad()\n",
    "        # loss.backward()\n",
    "        # optimiser.step()\n",
    "\n",
    "        # print('Iteration {} done, loss: {}'.format(i, loss.item()))\n",
    "\n",
    "        break\n"
   ]
  },
  {
   "cell_type": "code",
   "execution_count": 12,
   "metadata": {},
   "outputs": [],
   "source": [
    "# torch.save(modelTest.state_dict(), 'model.pt')"
   ]
  }
 ]
}