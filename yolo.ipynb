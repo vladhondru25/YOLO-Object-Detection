{
 "metadata": {
  "language_info": {
   "codemirror_mode": {
    "name": "ipython",
    "version": 3
   },
   "file_extension": ".py",
   "mimetype": "text/x-python",
   "name": "python",
   "nbconvert_exporter": "python",
   "pygments_lexer": "ipython3",
   "version": "3.7.9-final"
  },
  "orig_nbformat": 2,
  "kernelspec": {
   "name": "python3",
   "display_name": "Python 3",
   "language": "python"
  }
 },
 "nbformat": 4,
 "nbformat_minor": 2,
 "cells": [
  {
   "cell_type": "code",
   "execution_count": 1,
   "metadata": {},
   "outputs": [],
   "source": [
    "%load_ext autoreload\n",
    "%autoreload 2"
   ]
  },
  {
   "cell_type": "code",
   "execution_count": 2,
   "metadata": {},
   "outputs": [],
   "source": [
    "import numpy as np\n",
    "\n",
    "import torch\n",
    "import torch.nn as nn\n",
    "import torch.nn.functional as F\n",
    "import torch.optim as optim\n",
    "\n",
    "from models.yolov4 import CSPDarknet53_SPP_PAN\n",
    "from models.common import *\n",
    "from utility.loss_function import *\n",
    "from utility.utilities import *\n",
    "from utility.boxes import *\n",
    "from utility.dataset import *\n",
    "from utility.dataset_api import *\n",
    "from utility.display import *"
   ]
  },
  {
   "cell_type": "code",
   "execution_count": null,
   "metadata": {},
   "outputs": [],
   "source": [
    "EPOCHS = 1"
   ]
  },
  {
   "cell_type": "code",
   "execution_count": 3,
   "metadata": {},
   "outputs": [
    {
     "output_type": "stream",
     "name": "stdout",
     "text": [
      "loading annotations into memory...\n",
      "Done (t=0.53s)\n",
      "creating index...\n",
      "index created!\n"
     ]
    }
   ],
   "source": [
    "device = torch.device('cpu')\n",
    "\n",
    "ds = CocoDatasetAPITrain()\n",
    "dl = load_dataloader(ds, batch_size=4)\n",
    "\n",
    "modelTest = CSPDarknet53_SPP_PAN()\n",
    "modelTest = modelTest.to(device=device)\n",
    "\n",
    "optimiser = optim.Adam(modelTest.parameters())"
   ]
  },
  {
   "cell_type": "code",
   "execution_count": 6,
   "metadata": {},
   "outputs": [
    {
     "output_type": "stream",
     "name": "stdout",
     "text": [
      "Iteration 0 done, loss: 3961.791748046875\n"
     ]
    }
   ],
   "source": [
    "for epoch in EPOCHS:\n",
    "    for i, batch in enumerate(dl):\n",
    "        images, targets = batch\n",
    "        images = images.to(device=device)\n",
    "        targets = targets.to(device=device)\n",
    "        \n",
    "        preds = modelTest(images)[-1]\n",
    "        \n",
    "        preds = split_output(preds, device)\n",
    "        \n",
    "        preds[0][:,:,:,:,0:2] = ACTIVATIONS['sigmoid'](preds[0][:,:,:,:,0:2])\n",
    "        preds[1] = ACTIVATIONS['sigmoid'](preds[1])\n",
    "        preds[2] = ACTIVATIONS['sigmoid'](preds[2])\n",
    "        \n",
    "        pred_boxes = prediction_to_boxes(preds[0], 's_scale', device)\n",
    "        \n",
    "        masks_and_target = build_target(pred_boxes, preds[2], targets, 's_scale', device)\n",
    "        \n",
    "        loss = loss_function(preds, masks_and_target, device)\n",
    "        \n",
    "        optimiser.zero_grad()\n",
    "        loss.backward()\n",
    "        optimiser.step()\n",
    "\n",
    "        print('Iteration {} done, loss: {}'.format(i, loss.item()))\n",
    "\n",
    "        break"
   ]
  },
  {
   "cell_type": "code",
   "execution_count": null,
   "metadata": {},
   "outputs": [],
   "source": [
    "torch.save(model.state_dict(), 'model.pt')"
   ]
  }
 ]
}